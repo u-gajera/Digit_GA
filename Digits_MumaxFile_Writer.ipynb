{
 "cells": [
  {
   "cell_type": "code",
   "execution_count": 6,
   "id": "efd41112",
   "metadata": {},
   "outputs": [],
   "source": [
    "import numpy as np\n",
    "import random\n",
    "import os"
   ]
  },
  {
   "cell_type": "code",
   "execution_count": 10,
   "id": "0f24551a",
   "metadata": {},
   "outputs": [],
   "source": [
    "class MumaxFileWriter:\n",
    "    \n",
    "    def __init__(self, filename, structre_text, frequncy_text, writefilename):\n",
    "        self.filename   = filename\n",
    "        self.script_text = ''\n",
    "        self.structre_text = structre_text\n",
    "        self.frequncy_text = frequncy_text\n",
    "        self.writefilename = writefilename\n",
    "        \n",
    "    \n",
    "    def mumax_script_read(self):\n",
    "        with open(self.filename,'r') as file:\n",
    "            lines = file.read()\n",
    "        lines = lines.split('\\n')\n",
    "        return lines\n",
    "                    \n",
    "    def script_writing(self):\n",
    "        self.mumax_script_read()\n",
    "        for ii in range(lines.index('//input from the python')+1):\n",
    "            self.script_text= self.script_text+(lines[ii]+'\\n')\n",
    "            \n",
    "        self.script_text = self.script_text + self.structre_text\n",
    "\n",
    "        for jj in range(lines.index('//end input from the python'),\n",
    "                        lines.index('//input frequncies from the python')):\n",
    "            self.script_text = self.script_text+(lines[jj]+'\\n')\n",
    "            \n",
    "        self.script_text = self.script_text + self.frequncy_text\n",
    "        \n",
    "        for kk in range(lines.index('//end frequncies from the python'),\n",
    "                        len(lines)):\n",
    "            file.write(lines[kk]+'\\n')\n",
    "            \n",
    "    def file_writing(self):\n",
    "        self.script_writing()\n",
    "        with open(self.writefilename, 'w') as file:\n",
    "            file.write(self.script_text)\n",
    "        file.close()"
   ]
  }
 ],
 "metadata": {
  "kernelspec": {
   "display_name": "Python 3 (ipykernel)",
   "language": "python",
   "name": "python3"
  },
  "language_info": {
   "codemirror_mode": {
    "name": "ipython",
    "version": 3
   },
   "file_extension": ".py",
   "mimetype": "text/x-python",
   "name": "python",
   "nbconvert_exporter": "python",
   "pygments_lexer": "ipython3",
   "version": "3.9.7"
  }
 },
 "nbformat": 4,
 "nbformat_minor": 5
}
