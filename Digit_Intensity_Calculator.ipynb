{
 "cells": [
  {
   "cell_type": "code",
   "execution_count": 2,
   "id": "541907bd",
   "metadata": {},
   "outputs": [],
   "source": [
    "import numpy as np\n",
    "import random\n",
    "import matplotlib.pylab as plt\n",
    "import os\n",
    "%matplotlib inline"
   ]
  },
  {
   "cell_type": "code",
   "execution_count": null,
   "id": "1b71cac4",
   "metadata": {},
   "outputs": [],
   "source": [
    "main_path = 'C:\\\\Users\\\\Uday Aalto Account\\\\OneDrive - Aalto University\\\\Documents\\\\mumax\\\\magnonic_device'\n",
    "analysis_path = '\\scripts'\n",
    "os.chdir(main_path+analysis_path)"
   ]
  },
  {
   "cell_type": "code",
   "execution_count": null,
   "id": "386e5971",
   "metadata": {},
   "outputs": [],
   "source": [
    "class IntensityCalculation:\n",
    "    def __init__(self, filename, xcellrange, ycellrange, zcellrange):\n",
    "        self.filename   = filename\n",
    "        self.xcellrange = xcellrange\n",
    "        self.ycellrange = ycellrange\n",
    "        self.zcellrange = zcellrange\n",
    "        \n",
    "    def readfiles(self):\n",
    "        with open(self.filename ,'r') as file:\n",
    "            lines = file.read()\n",
    "        lines  = lines.split('\\n')\n",
    "        xcell  = int(lines[20].split(' ')[2])\n",
    "        ycell  = int(lines[21].split(' ')[2])\n",
    "        zcell  = int(lines[22].split(' ')[2])\n",
    "        xstepsize = float(lines[23].split(' ')[2])\n",
    "        ystepsize = float(lines[24].split(' ')[2])\n",
    "        zstepsize = float(lines[25].split(' ')[2])\n",
    "        lines = lines[28:-3]\n",
    "        tempx = np.array(range(0,xcell))\n",
    "        tempy = np.array(range(0,ycell))\n",
    "        tempz = np.array(range(0,zcell))\n",
    "        return xcell, ycell, zcell, xstepsize, ystepsize \\\n",
    "               ,zstepsize, tempx, tempy, tempz, lines\n",
    "    \n",
    "    def getTotalM(self):\n",
    "        xcell, ycell, zcell, xstepsize, ystepsize, zstepsize \\\n",
    "        ,tempx, tempy, tempz, lines = self.readfiles()\n",
    "        mx, my, mz = [],[],[]\n",
    "        for ii in lines:\n",
    "            A = ii.split(' ')\n",
    "            mx.append(float(A[0]))\n",
    "            my.append(float(A[1]))\n",
    "            mz.append(float(A[2]))\n",
    "\n",
    "        mx = np.array(mx)\n",
    "        my = np.array(my)\n",
    "        mz = np.array(mz)\n",
    "        return mx, my, mz, xcell, ycell, zcell\n",
    "        \n",
    "    def reshapeM(self):\n",
    "        mx, my, mz, xcell, ycell, zcell = self.getTotalM()\n",
    "        mx = np.reshape(mx,[xcell,ycell,zcell])\n",
    "        my = np.reshape(my,[xcell,ycell,zcell])\n",
    "        mz = np.reshape(mz,[xcell,ycell,zcell])\n",
    "        return mx, my, mz\n",
    "    \n",
    "    def getSelectedM(self):\n",
    "        mx, my, mz = self.reshapeM()\n",
    "        selected_mx = mx[self.xcellrange,:,:][:,self.ycellrange,:][:,:,self.zcellrange]\n",
    "        selected_my = my[self.xcellrange,:,:][:,self.ycellrange,:][:,:,self.zcellrange]\n",
    "        selected_mz = mz[self.xcellrange,:,:][:,self.ycellrange,:][:,:,self.zcellrange]\n",
    "        return selected_mx, selected_my, selected_mz"
   ]
  },
  {
   "cell_type": "code",
   "execution_count": null,
   "id": "c1bd30eb",
   "metadata": {},
   "outputs": [],
   "source": [
    "def calculate_intensities_all_arms():\n",
    "    intensities = []\n",
    "    xcellranges = [range(655,955),range(655,955),range(655,955),\n",
    "                   range(605,607),range(505,507),range(405,407),\n",
    "                   range(55 ,355),range(55 ,355),range(55 ,355)]\n",
    "    \n",
    "    ycellranges = [range(405,407),range(505,507),range(605,607),\n",
    "                   range(655,955),range(655,955),range(655,955),\n",
    "                   range(605,607),range(505,507),range(405,407)]\n",
    "    \n",
    "    for ii in range(9):\n",
    "        obj = IntensityCalculation(filename='Digit_NN_allsides.out/m000070.ovf', \n",
    "                                   xcellrange=xcellranges[ii], \n",
    "                                   ycellrange=ycellranges[ii], \n",
    "                                   zcellrange=range(0,1))\n",
    "        selected_mx, selected_my, selected_mz = obj.getSelectedM()\n",
    "        intensities.append(np.average(np.sqrt(selected_mx**2+selected_my**2)))\n",
    "    return intensities"
   ]
  },
  {
   "cell_type": "code",
   "execution_count": null,
   "id": "b5fd1e43",
   "metadata": {},
   "outputs": [],
   "source": [
    "obj1 = IntensityCalculation(filename='Digit_NN_allsides.out/m000070.ovf', \n",
    "                           xcellrange=range(655,955), \n",
    "                           ycellrange=range(405,407), \n",
    "                           zcellrange=range(0,1))"
   ]
  },
  {
   "cell_type": "code",
   "execution_count": null,
   "id": "f5fe90e8",
   "metadata": {},
   "outputs": [],
   "source": [
    "selected_mx, selected_my, selected_mz = obj1.getSelectedM()\n",
    "np.average(np.sqrt(selected_mx**2+selected_my**2))"
   ]
  },
  {
   "cell_type": "code",
   "execution_count": null,
   "id": "e80e8b99",
   "metadata": {},
   "outputs": [],
   "source": [
    "intensities = calculate_intensities_all_arms()"
   ]
  },
  {
   "cell_type": "code",
   "execution_count": 5,
   "id": "fb4c5298",
   "metadata": {},
   "outputs": [
    {
     "data": {
      "text/plain": [
       "array([-1.8e-06, -1.4e-06, -1.0e-06, -6.0e-07, -2.0e-07,  2.0e-07,\n",
       "        6.0e-07,  1.0e-06,  1.4e-06,  1.8e-06])"
      ]
     },
     "execution_count": 5,
     "metadata": {},
     "output_type": "execute_result"
    }
   ],
   "source": [
    "np.arange(-1800e-9, 1850e-9, 400e-9)"
   ]
  },
  {
   "cell_type": "code",
   "execution_count": null,
   "id": "40088a1d",
   "metadata": {},
   "outputs": [],
   "source": []
  }
 ],
 "metadata": {
  "kernelspec": {
   "display_name": "Python 3 (ipykernel)",
   "language": "python",
   "name": "python3"
  },
  "language_info": {
   "codemirror_mode": {
    "name": "ipython",
    "version": 3
   },
   "file_extension": ".py",
   "mimetype": "text/x-python",
   "name": "python",
   "nbconvert_exporter": "python",
   "pygments_lexer": "ipython3",
   "version": "3.9.7"
  }
 },
 "nbformat": 4,
 "nbformat_minor": 5
}
