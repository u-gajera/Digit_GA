{
 "cells": [
  {
   "cell_type": "code",
   "execution_count": 1,
   "id": "9cc3daac",
   "metadata": {},
   "outputs": [],
   "source": [
    "import numpy as np\n",
    "import random\n",
    "import os"
   ]
  },
  {
   "cell_type": "code",
   "execution_count": 2,
   "id": "b15b5dbb",
   "metadata": {},
   "outputs": [],
   "source": [
    "class Frequncies_writer:\n",
    "    def __init__(self, digit, Frequncies = [2.4, 2.5, 2.6, 2.7, 2.8, 2.9, 3.0]):\n",
    "        self.digit             = digit\n",
    "        self._Digitsarraylist  = []\n",
    "        self.Frequncies        = Frequncies\n",
    "        self.digit_freuncy_array= []\n",
    "        self.frequncy_string   = ''\n",
    "        self.mask_string       = ''\n",
    "        \n",
    "        if len(self.Frequncies) != 7:\n",
    "            print('ERROR:Leanth of frequncies is not sufficent')\n",
    "        \n",
    "    def stored_digits(self):\n",
    "        L0 = [0,0,0,1,0,0,0]\n",
    "        L1 = [1,1,0,1,1,0,1]\n",
    "        L2 = [0,0,1,0,1,0,0]\n",
    "        L3 = [0,1,0,0,1,0,0]\n",
    "        L4 = [1,1,0,0,0,0,1]\n",
    "        L5 = [0,1,0,0,0,1,0]\n",
    "        L6 = [0,0,0,0,0,1,0]\n",
    "        L7 = [1,1,0,1,1,0,0]\n",
    "        L8 = [0,0,0,0,0,0,0]\n",
    "        L9 = [0,1,0,0,0,0,0]\n",
    "        return self._Digitsarraylist.append([L0,L1,L2,L3,L4,L5,L6,L7,L8,L9])\n",
    "    \n",
    "    def select_digit(self):\n",
    "        self.stored_digits()\n",
    "        return self._Digitsarraylist[0][self.digit]\n",
    "\n",
    "    def write_frequncies(self):\n",
    "        digit_array = self.select_digit()\n",
    "        for ii, value in enumerate(digit_array):\n",
    "            if value == 1:\n",
    "                self.frequncy_string=self.frequncy_string+('f{} := {}e+9 \\n'.format(ii, self.Frequncies[ii]))\n",
    "                self.mask_string    =self.mask_string+('B_ext.add(mask0, B_exc*sin(2*pi*f{}*(t-T_loc))) \\n'.format(ii))\n",
    "        "
   ]
  },
  {
   "cell_type": "code",
   "execution_count": 3,
   "id": "d14ac3e5",
   "metadata": {},
   "outputs": [],
   "source": [
    "frequncy_writer = Frequncies_writer(digit=1)"
   ]
  },
  {
   "cell_type": "code",
   "execution_count": 5,
   "id": "8f15e951",
   "metadata": {},
   "outputs": [
    {
     "name": "stdout",
     "output_type": "stream",
     "text": [
      "None\n"
     ]
    }
   ],
   "source": [
    "print(frequncy_writer.write_frequncies())"
   ]
  },
  {
   "cell_type": "code",
   "execution_count": 10,
   "id": "b9b6bd84",
   "metadata": {},
   "outputs": [
    {
     "data": {
      "text/plain": [
       "'f0 := 2.4e+9 \\nf1 := 2.5e+9 \\nf3 := 2.7e+9 \\nf4 := 2.8e+9 \\nf6 := 3.0e+9 \\nf0 := 2.4e+9 \\nf1 := 2.5e+9 \\nf3 := 2.7e+9 \\nf4 := 2.8e+9 \\nf6 := 3.0e+9 \\nB_ext.add(mask0, B_exc*sin(2*pi*f0*(t-T_loc))) \\nB_ext.add(mask0, B_exc*sin(2*pi*f1*(t-T_loc))) \\nB_ext.add(mask0, B_exc*sin(2*pi*f3*(t-T_loc))) \\nB_ext.add(mask0, B_exc*sin(2*pi*f4*(t-T_loc))) \\nB_ext.add(mask0, B_exc*sin(2*pi*f6*(t-T_loc))) \\nB_ext.add(mask0, B_exc*sin(2*pi*f0*(t-T_loc))) \\nB_ext.add(mask0, B_exc*sin(2*pi*f1*(t-T_loc))) \\nB_ext.add(mask0, B_exc*sin(2*pi*f3*(t-T_loc))) \\nB_ext.add(mask0, B_exc*sin(2*pi*f4*(t-T_loc))) \\nB_ext.add(mask0, B_exc*sin(2*pi*f6*(t-T_loc))) \\n'"
      ]
     },
     "execution_count": 10,
     "metadata": {},
     "output_type": "execute_result"
    }
   ],
   "source": [
    "frequncy_writer.frequncy_string + frequncy_writer.mask_string"
   ]
  },
  {
   "cell_type": "code",
   "execution_count": null,
   "id": "5e05f653",
   "metadata": {},
   "outputs": [],
   "source": []
  }
 ],
 "metadata": {
  "kernelspec": {
   "display_name": "Python 3 (ipykernel)",
   "language": "python",
   "name": "python3"
  },
  "language_info": {
   "codemirror_mode": {
    "name": "ipython",
    "version": 3
   },
   "file_extension": ".py",
   "mimetype": "text/x-python",
   "name": "python",
   "nbconvert_exporter": "python",
   "pygments_lexer": "ipython3",
   "version": "3.9.7"
  }
 },
 "nbformat": 4,
 "nbformat_minor": 5
}
