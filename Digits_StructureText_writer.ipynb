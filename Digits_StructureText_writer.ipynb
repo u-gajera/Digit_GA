{
 "cells": [
  {
   "cell_type": "code",
   "execution_count": 7,
   "id": "a39284f2",
   "metadata": {},
   "outputs": [],
   "source": [
    "import numpy as np\n",
    "import random\n",
    "import os"
   ]
  },
  {
   "cell_type": "code",
   "execution_count": 26,
   "id": "2216123f",
   "metadata": {},
   "outputs": [],
   "source": [
    "class StructureTextWriter:\n",
    "    \n",
    "    def __init__(self, struture_array):\n",
    "        self.struture_array      = struture_array\n",
    "        self.struture_text       = ''\n",
    "        self.samples             = []\n",
    "        self.all_squares_xposition = np.arange(-1800e-9, 1850e-9, 400e-9)\n",
    "        self.all_squares_yposition = np.arange(-1800e-9, 1850e-9, 400e-9)\n",
    "        self.position_1Darray      = np.zeros(len(self.all_squares_xposition)*len(self.all_squares_yposition))\n",
    "        \n",
    "        \n",
    "    def indexing_the_squares(self):\n",
    "        for ii, value in enumerate(self.struture_array):\n",
    "            if value == 1:\n",
    "                temp = \"{:02d}\".format(ii)\n",
    "                x_cord, y_cord = int(temp[0]),int(temp[1])\n",
    "                \n",
    "                \n",
    "    def binary_to_array(self):\n",
    "        return (np.where(self.struture_array == 1)[0])\n",
    "    \n",
    "    \n",
    "    def position1D_to_position2D(self):\n",
    "        self.struture_array = self.struture_array.reshape(len(self.all_squares_xposition),\n",
    "                                                          len(self.all_squares_yposition))\n",
    "\n",
    "        \n",
    "    def square_selection(self):\n",
    "        self.position1D_to_position2D()\n",
    "        position_1Darray = np.zeros(len(self.all_squares_xposition)*len(self.all_squares_yposition))\n",
    "        samples = []\n",
    "        \n",
    "        square_possition_array = self.binary_to_array()\n",
    "        temp = 0\n",
    "        for ii, xvalues in enumerate(self.struture_array):\n",
    "            for jj, yvalues in enumerate(xvalues):\n",
    "                if yvalues == 1:\n",
    "                    x_cord, y_cord = int(ii),int(jj)\n",
    "                    self.struture_text = self.struture_text+('tss{} := ts.transl({},{},0) \\n'.format(temp, \n",
    "                                                                 round(self.all_squares_xposition[x_cord], 10), \n",
    "                                                                 round(self.all_squares_yposition[y_cord], 10)))\n",
    "                temp += 1\n",
    "            \n",
    "    \n",
    "    def square_removel(self):\n",
    "        self.square_selection()\n",
    "        square_possition_array = self.binary_to_array()\n",
    "        removed_sqrs = ''\n",
    "        for jj in square_possition_array:\n",
    "            removed_sqrs = removed_sqrs+'.sub'+'(tss{})'.format(jj)\n",
    "\n",
    "        self.struture_text   = self.struture_text+'decomplex := full_structure' +removed_sqrs"
   ]
  },
  {
   "cell_type": "code",
   "execution_count": 27,
   "id": "ebaab67a",
   "metadata": {},
   "outputs": [],
   "source": [
    "testArray = np.zeros(100)\n",
    "testNumbers = [0,19,99]\n",
    "testArray[testNumbers] = 1\n",
    "testArray1 = [1, 1, 0, 1, 1, 1, 1, 1, 0, 0, 1, 0, 0, 0, 1, 1, 1, 0, 1, 1, 0, 1, 0, 1, 0, 0, 0, 1, 0, 1, 1, 1, 0, 1, 1, 0, 0, 0, 0, 1, 0, 1, 0, 1, 1, 0, 0, 1, 0, 1, 0, 1, 0, 1, 1, 1, 0, 0, 1, 1, 0, 1, 0, 0, 1, 1, 0, 1, 0, 1, 1, 0, 1, 1, 0, 1, 1, 1, 1, 0, 0, 1, 1, 0, 0, 0, 0, 1, 1, 1, 0, 1, 1, 1, 1, 1, 1, 1, 1, 0]"
   ]
  },
  {
   "cell_type": "code",
   "execution_count": 32,
   "id": "4fc6cd33",
   "metadata": {},
   "outputs": [],
   "source": [
    "struture_text = StructureTextWriter(struture_array=np.array(testArray1))\n",
    "struture_text.square_removel()"
   ]
  },
  {
   "cell_type": "code",
   "execution_count": 19,
   "id": "1034b32a",
   "metadata": {},
   "outputs": [],
   "source": [
    "f = open('struture_text_test.txt','w')\n",
    "f.write(struture_text.struture_text)\n",
    "f.close()"
   ]
  },
  {
   "cell_type": "code",
   "execution_count": 20,
   "id": "0e690de0",
   "metadata": {},
   "outputs": [
    {
     "data": {
      "text/plain": [
       "'tss0 := ts.transl(-4.75e-06,-4.75e-06,0) \\ntss19 := ts.transl(-4.75e-06,4.75e-06,0) \\ntss399 := ts.transl(4.75e-06,4.75e-06,0) \\ndecomplex := full_structure.sub(tss0).sub(tss0).sub(tss19)'"
      ]
     },
     "execution_count": 20,
     "metadata": {},
     "output_type": "execute_result"
    }
   ],
   "source": [
    "struture_text.struture_text"
   ]
  },
  {
   "cell_type": "code",
   "execution_count": 36,
   "id": "5738e063",
   "metadata": {},
   "outputs": [
    {
     "data": {
      "text/plain": [
       "[1, 0, 1, 1, 0, 0, 1, 1, 1, 1]"
      ]
     },
     "execution_count": 36,
     "metadata": {},
     "output_type": "execute_result"
    }
   ],
   "source": [
    "choices([0, 1], k=10)"
   ]
  },
  {
   "cell_type": "code",
   "execution_count": null,
   "id": "5b1eef08",
   "metadata": {},
   "outputs": [],
   "source": []
  }
 ],
 "metadata": {
  "kernelspec": {
   "display_name": "Python 3 (ipykernel)",
   "language": "python",
   "name": "python3"
  },
  "language_info": {
   "codemirror_mode": {
    "name": "ipython",
    "version": 3
   },
   "file_extension": ".py",
   "mimetype": "text/x-python",
   "name": "python",
   "nbconvert_exporter": "python",
   "pygments_lexer": "ipython3",
   "version": "3.9.7"
  }
 },
 "nbformat": 4,
 "nbformat_minor": 5
}
