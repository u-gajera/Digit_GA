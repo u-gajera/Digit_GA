{
 "cells": [
  {
   "cell_type": "code",
   "execution_count": null,
   "id": "de74167e",
   "metadata": {},
   "outputs": [],
   "source": [
    "number_of_steps = 1000\n",
    "cutoff_step_limit = 1e-4\n",
    "cutoff_steps    = 20"
   ]
  },
  {
   "cell_type": "code",
   "execution_count": null,
   "id": "93bd40f2",
   "metadata": {},
   "outputs": [],
   "source": [
    "import random \n",
    "import os\n",
    "import numpy as np"
   ]
  },
  {
   "cell_type": "code",
   "execution_count": null,
   "id": "f5a772e1",
   "metadata": {},
   "outputs": [],
   "source": [
    "from Digits_StructureText_writer import StructureTextWriter\n",
    "from Digits_freq_writer import Frequncies_writer\n",
    "from Digits_MumaxFile_Writer import MumaxFileWriter\n",
    "from Digit_Intensity_Calculator import IntensityCalculation #set path here\n",
    "from Digit_Intensity_Calculator import calculate_intensities_all_arms"
   ]
  },
  {
   "cell_type": "code",
   "execution_count": null,
   "id": "439f113d",
   "metadata": {},
   "outputs": [],
   "source": [
    "def intensity_calculation(struct, step_name):\n",
    "    #Writing structure file\n",
    "    struct_text = StructureTextWriter(struture_array=np.array(struct))\n",
    "    struct_text.square_removel()\n",
    "    struct_text.struture_text\n",
    "    \n",
    "    f = open('overview_S{}.txt'.format(step_name),'w')\n",
    "    position_of_max = []\n",
    "    \n",
    "    ftt_func = []\n",
    "    for digits in range(3):\n",
    "        freq_writer = Frequncies_writer(digit=digits)\n",
    "        freq_writer.write_frequncies()\n",
    "        freq_text = freq_writer.frequncy_string + freq_writer.mask_string\n",
    "\n",
    "        inputfile = 's{}f{}'.format(step_name, digits)\n",
    "        mumaxfile = MumaxFileWriter(\n",
    "            filename='Digit_NN_allsides_512x128_OOP_0mT.mx3',\n",
    "            structre_text= struct_text.struture_text,\n",
    "            frequncy_text= freq_text,\n",
    "            writefilename= inputfile+'.mx3'\n",
    "                    )\n",
    "        mumaxfile.file_writing()\n",
    "        run_command = 'mumax3 {}'.format(inputfile+'.mx3')\n",
    "        os.system(run_command)\n",
    "\n",
    "        #calculating the intensities at all arms\n",
    "        all_intensities = calculate_intensities_all_arms(inputfile+'.out/m000002.ovf')\n",
    "        ftt_func.append(all_intensities[digits])\n",
    "        position_of_max.append(all_intensities.index(max(all_intensities)))\n",
    "        f.write('digit{} '.format(digits)+ str(all_intensities) + '\\n')\n",
    "        ftt_func.append(random.random())\n",
    "    f.close()\n",
    "    return sum(ftt_func)"
   ]
  },
  {
   "cell_type": "code",
   "execution_count": null,
   "id": "5ae0dd8e",
   "metadata": {},
   "outputs": [],
   "source": [
    "def generate_first_structure(length: int):\n",
    "    return random.choices([0, 1], weights=[85,15], k=length)"
   ]
  },
  {
   "cell_type": "code",
   "execution_count": null,
   "id": "17a44ae3",
   "metadata": {},
   "outputs": [],
   "source": [
    "def performing_change(position1Darray):\n",
    "    \n",
    "    position1Darray = np.array(position1Darray)\n",
    "    random1 = random.choice(np.where(position1Darray == 1)[0])\n",
    "    random0 = random.choice(np.where(position1Darray == 0)[0])\n",
    "    \n",
    "    position1Darray[random1] = 0\n",
    "    position1Darray[random0] = 1\n",
    "        \n",
    "    return position1Darray        "
   ]
  },
  {
   "cell_type": "code",
   "execution_count": null,
   "id": "5dfe3a15",
   "metadata": {},
   "outputs": [],
   "source": [
    "all_struct         = []\n",
    "accept_struct      = []\n",
    "all_intensities    = []\n",
    "accept_intensities = []\n",
    "changes_made       = 0\n",
    "\n",
    "for ii in range(number_of_steps):\n",
    "    first_struct       = generate_first_structure(length=100)\n",
    "    \n",
    "    if ii==0:\n",
    "        intensity = intensity_calculation(first_struct, ii)\n",
    "        accept_intensities.append(intensity)\n",
    "        accept_struct.append(first_struct)\n",
    "        all_intensities.append(intensity)\n",
    "        all_struct.append(first_struct)\n",
    "        \n",
    "    else:\n",
    "        new_struct = performing_change(accept_struct[-1])\n",
    "        intensity = intensity_calculation(new_struct, ii)\n",
    "        \n",
    "        if intensity>accept_intensities[-1]:\n",
    "            accept_intensities.append(intensity)\n",
    "            accept_struct.append(new_struct)\n",
    "            \n",
    "            all_intensities.append(intensity)\n",
    "            all_struct.append(new_struct)\n",
    "            changes_made = 0\n",
    "            \n",
    "        else:\n",
    "            all_intensities.append(intensity)\n",
    "            all_struct.append(new_struct)\n",
    "            changes_made += 1\n",
    "            \n",
    "    if changes_made>cutoff_steps:\n",
    "        break"
   ]
  },
  {
   "cell_type": "code",
   "execution_count": null,
   "id": "cad69e76",
   "metadata": {},
   "outputs": [],
   "source": []
  }
 ],
 "metadata": {
  "kernelspec": {
   "display_name": "Python 3 (ipykernel)",
   "language": "python",
   "name": "python3"
  },
  "language_info": {
   "codemirror_mode": {
    "name": "ipython",
    "version": 3
   },
   "file_extension": ".py",
   "mimetype": "text/x-python",
   "name": "python",
   "nbconvert_exporter": "python",
   "pygments_lexer": "ipython3",
   "version": "3.9.7"
  }
 },
 "nbformat": 4,
 "nbformat_minor": 5
}
